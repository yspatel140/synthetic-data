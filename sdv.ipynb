{
 "cells": [
  {
   "cell_type": "code",
   "execution_count": 72,
   "id": "0bf0e5a2",
   "metadata": {},
   "outputs": [],
   "source": [
    "import pandas as pd\n",
    "\n",
    "from sdv.tabular import TVAE\n",
    "from sdv.constraints import CustomConstraint\n",
    "from sdv.constraints import ColumnFormula\n",
    "\n",
    "import random\n",
    "from random import choice\n",
    "\n",
    "import string\n",
    "from string import ascii_uppercase\n",
    "\n",
    "import warnings\n",
    "warnings.filterwarnings(\"ignore\")\n",
    "\n",
    "data = pd.read_csv('data/samples.csv')"
   ]
  },
  {
   "cell_type": "code",
   "execution_count": 73,
   "id": "896e73f8",
   "metadata": {},
   "outputs": [
    {
     "name": "stdout",
     "output_type": "stream",
     "text": [
      "   ID First name Last name Department  Location  Salary  \\\n",
      "0   8        Nil     Swain         HR    Mumbai     123   \n",
      "1   5      Jamie     Smith         HR    Mumbai     123   \n",
      "2   6    Yogesh      Pawar         HR      Pune     139   \n",
      "3   5        Sam     Pawar         IT      Pune     129   \n",
      "4   8        Nil     Swain         IT  Scotland     193   \n",
      "5   5      Jamie     Smith         HR    Mumbai     123   \n",
      "6   5    Yogesh    Johnson         IT    London     123   \n",
      "7   5       Mary     Smith         IT    Mumbai     123   \n",
      "8   3       Mary   Jenkins         IT    Mumbai     155   \n",
      "9   7    Yogesh      Patel   Computer      Pune     209   \n",
      "\n",
      "                    Email  Age   UID  \n",
      "0     Nil.Swain@gmail.com   26  1007  \n",
      "1   Jamie.Smith@gmail.com   42  1005  \n",
      "2     Sam.Pawar@gmail.com   32  1003  \n",
      "3     Sam.Pawar@gmail.com   28  1005  \n",
      "4     Nil.Swain@gmail.com   35  1008  \n",
      "5   Jamie.Smith@gmail.com   34  1004  \n",
      "6  Yogesh.Patel@gmail.com   28  1006  \n",
      "7  Mary.Jenkins@gmail.com   31  1004  \n",
      "8  Mary.Jenkins@gmail.com   41  1006  \n",
      "9  Yogesh.Patel@gmail.com   28  1006  \n"
     ]
    }
   ],
   "source": [
    "model = TVAE()\n",
    "model.fit(data)\n",
    "\n",
    "new_data = model.sample(num_rows=10)\n",
    "print(new_data)"
   ]
  },
  {
   "cell_type": "code",
   "execution_count": 74,
   "id": "b9bedb04",
   "metadata": {},
   "outputs": [],
   "source": [
    "constraints = []"
   ]
  },
  {
   "cell_type": "code",
   "execution_count": 67,
   "id": "578a4096",
   "metadata": {},
   "outputs": [],
   "source": [
    "def generate_email(data):\n",
    "        data['Email'] = data['First name'] + \".\" + data['Last name'] + '@gmail.com'\n",
    "        return data['Email']\n",
    "\n",
    "email_constraints = ColumnFormula(\n",
    "    column='Email',\n",
    "    formula=generate_email,\n",
    "    handling_strategy='transform')\n",
    "\n",
    "constraints.append(email_constraints)"
   ]
  },
  {
   "cell_type": "code",
   "execution_count": 68,
   "id": "d77f780c",
   "metadata": {},
   "outputs": [],
   "source": [
    "def generate_arbitary_string_series(data):\n",
    "    data=''.join(random.choices(string.ascii_letters, k=len(str(data))))\n",
    "    return data\n",
    "\n",
    "def generate_arbitary_string(column_data): \n",
    "    return column_data.apply(generate_arbitary_string_series)\n",
    "\n",
    "arbitary_string_constraints = CustomConstraint(\n",
    "                                columns=['First name', 'Last name'],\n",
    "                                transform=generate_arbitary_string)\n",
    "\n",
    "constraints.append(arbitary_string_constraints)"
   ]
  },
  {
   "cell_type": "code",
   "execution_count": 69,
   "id": "59ffad7e",
   "metadata": {},
   "outputs": [],
   "source": [
    "def generate_arbitary_number_series(data):\n",
    "    data=random.randint(0, 100)\n",
    "    return data\n",
    "\n",
    "def generate_arbitary_number(column_data): \n",
    "    return column_data.apply(generate_arbitary_number_series)\n",
    "\n",
    "arbitary_number_constraints = CustomConstraint(\n",
    "                                columns=['Age'],\n",
    "                                transform=generate_arbitary_number)\n",
    "\n",
    "constraints.append(arbitary_number_constraints)"
   ]
  },
  {
   "cell_type": "code",
   "execution_count": 70,
   "id": "cbfe37ab",
   "metadata": {},
   "outputs": [],
   "source": [
    "def multiply_with_1000(column_data):\n",
    "    return column_data  * 1000\n",
    "\n",
    "multiply_constraint =  CustomConstraint(\n",
    "    columns=['Salary'], \n",
    "    transform=multiply_with_1000)\n",
    "\n",
    "constraints.append(multiply_constraint)"
   ]
  },
  {
   "cell_type": "code",
   "execution_count": 71,
   "id": "8d5c5183",
   "metadata": {},
   "outputs": [
    {
     "name": "stdout",
     "output_type": "stream",
     "text": [
      "    ID First name Last name Department  Location  Salary  \\\n",
      "0    0      RfcaT   zgdlkNX         IT      Pune  124000   \n",
      "1    1        Mkb     aeJFI   Computer    Mumbai  163000   \n",
      "2    2        Mkb     GZfFc      Admin    Mumbai  123000   \n",
      "3    3      pPqNT     yWqoy         IT    Mumbai  151000   \n",
      "4    4        Mkb     aeJFI   Computer    Mumbai  161000   \n",
      "5    5      pPqNT     yWqoy         IT    Mumbai  123000   \n",
      "6    6    TAGddwa     pYetn         IT    London  125000   \n",
      "7    7        ZXp     GZfFc         HR    Mumbai  167000   \n",
      "8    8    oxvEcIn       ped         IT      Pune  164000   \n",
      "9    9     RRpZWO    zbgaDA         IT      Pune  155000   \n",
      "10  10      pPqNT     pYetn         IT    Mumbai  145000   \n",
      "11  11      pPqNT     pYetn         IT    Mumbai  123000   \n",
      "12  12    TAGddwa     yWqoy         IT      Pune  159000   \n",
      "13  13    oxvEcIn       ped         IT  Amritsar  391000   \n",
      "14  14        Mkb     pYetn         IT    Mumbai  139000   \n",
      "\n",
      "                      Email  Age   UID  \n",
      "0   RfcaT.zgdlkNX@gmail.com   15  1004  \n",
      "1       Mkb.aeJFI@gmail.com   53  1004  \n",
      "2       Mkb.GZfFc@gmail.com   42  1008  \n",
      "3     pPqNT.yWqoy@gmail.com   44  1003  \n",
      "4       Mkb.aeJFI@gmail.com   54  1007  \n",
      "5     pPqNT.yWqoy@gmail.com   32  1002  \n",
      "6   TAGddwa.pYetn@gmail.com   40  1003  \n",
      "7       ZXp.GZfFc@gmail.com   26  1006  \n",
      "8     oxvEcIn.ped@gmail.com   28  1007  \n",
      "9   RRpZWO.zbgaDA@gmail.com   36  1005  \n",
      "10    pPqNT.pYetn@gmail.com   38  1002  \n",
      "11    pPqNT.pYetn@gmail.com   31  1001  \n",
      "12  TAGddwa.yWqoy@gmail.com   27  1000  \n",
      "13    oxvEcIn.ped@gmail.com   41  1004  \n",
      "14      Mkb.pYetn@gmail.com   11  1007  \n"
     ]
    }
   ],
   "source": [
    "model = TVAE(primary_key='ID', constraints=constraints) \n",
    "model.fit(data)\n",
    "\n",
    "synthetic_data_clients = model.sample(15)\n",
    "print(synthetic_data_clients)"
   ]
  }
 ],
 "metadata": {
  "kernelspec": {
   "display_name": "Python 3 (ipykernel)",
   "language": "python",
   "name": "python3"
  },
  "language_info": {
   "codemirror_mode": {
    "name": "ipython",
    "version": 3
   },
   "file_extension": ".py",
   "mimetype": "text/x-python",
   "name": "python",
   "nbconvert_exporter": "python",
   "pygments_lexer": "ipython3",
   "version": "3.9.12"
  }
 },
 "nbformat": 4,
 "nbformat_minor": 5
}
